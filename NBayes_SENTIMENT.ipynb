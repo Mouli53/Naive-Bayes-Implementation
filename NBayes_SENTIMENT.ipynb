{
 "cells": [
  {
   "cell_type": "code",
   "execution_count": 72,
   "metadata": {
    "id": "--4B2D3MD3Jx"
   },
   "outputs": [],
   "source": [
    "import pandas as pd\n",
    "import numpy as np\n",
    "import seaborn as sn\n",
    "import matplotlib.pyplot as plt\n",
    "from collections import Counter"
   ]
  },
  {
   "cell_type": "markdown",
   "metadata": {
    "id": "BvOLp-osPEWe"
   },
   "source": [
    "### class_probability(train) function implemented below calculates the probability of each class based on the number of the documents present in that class"
   ]
  },
  {
   "cell_type": "code",
   "execution_count": 71,
   "metadata": {
    "id": "5s7VeCu9R_ju"
   },
   "outputs": [],
   "source": [
    "def class_probability(train):\n",
    "    Pc = {}\n",
    "    docs_count = train.groupby('category')['TEXT'].count()\n",
    "    total = len(train)\n",
    "    total_cls = len(docs_count)\n",
    "    for i in range(total_cls):\n",
    "        Pc[i] = docs_count[i]/total\n",
    "    return Pc, total_cls"
   ]
  },
  {
   "cell_type": "markdown",
   "metadata": {
    "id": "UWwhwBJiPcEO"
   },
   "source": [
    "### Using the below function, as the name suggest, we will train our model and calculate the following probability distribution of the words in each class which will further be used for testing purposes.\n",
    "\n",
    "Both the classification and the sumarization will be carried out using naive Bayes. This is an inductive statistical method based on the Bayes Theorem, expressed as a relationship between a priori and a posteriori probability of a assumptions. Thus, for the classification we have: <br>\n",
    "\n",
    "• P(C = ck) is the a priori probability of CK class <br>\n",
    "\n",
    "• P(C = ck|x) is the posteriori probability of CK class after x it is observed <br>\n",
    "\n",
    "• P(x|C = ck) is the probability that x will be in CK class (verosimability, engg. likelihood) <br>\n",
    "\n",
    "• P(x) is the probability of observations (eng. evidence)"
   ]
  },
  {
   "cell_type": "code",
   "execution_count": 89,
   "metadata": {
    "id": "vfMCUnadR_eq"
   },
   "outputs": [],
   "source": [
    "def training(train,Pc,total_cls,datatype='PRE_TEXT',alpha=1):\n",
    "    words = {}\n",
    "    Vocab = []\n",
    "    word_to_idx = {}\n",
    "    word_count = {}\n",
    "\n",
    "    for i in range(total_cls):\n",
    "        words[i] = []\n",
    "\n",
    "    for index, row in train.iterrows():\n",
    "        raw_text = row[datatype]\n",
    "        tokens = raw_text.split(' ')\n",
    "        words[row['category']] += tokens\n",
    "        Vocab += tokens\n",
    "    Vocab = list(set(Vocab))\n",
    "    Vocab.append(-1) # For words which dont exist in Vocab \n",
    "\n",
    "    for i in range(len(Vocab)):\n",
    "        word_to_idx[Vocab[i]] = i\n",
    "    \n",
    "    for i in range(total_cls):\n",
    "        word_count[i] = Counter(words[i])\n",
    "    \n",
    "    V = len(Vocab)\n",
    "    Pxi_c = {}\n",
    "    for i in range(total_cls):\n",
    "        Pxi_c[i] = [0]*V\n",
    "        total_count = len(word_count[i]) # total words in class i\n",
    "        for word in Vocab:\n",
    "            idx = word_to_idx[word]\n",
    "            if word in word_count[i]:\n",
    "                value = word_count[i][word]\n",
    "            else:\n",
    "                value = 0\n",
    "            prob = (value + alpha)/(total_count + V + alpha) # Laplace smoothing\n",
    "            Pxi_c[i][idx] = np.log(prob)\n",
    "\n",
    "    return Pxi_c, Vocab, word_to_idx"
   ]
  },
  {
   "cell_type": "markdown",
   "metadata": {
    "id": "WMhaS6OiQuGt"
   },
   "source": [
    "### Also as the name suggests we will make prediction using the below function\n",
    "\n",
    "Flow will be as follows: <br>\n",
    "\n",
    "From the test dataset, we will take 1 news article at a time and find the probability of  P(text|C = ck) is the probability that text will be in CK class\n",
    "using the probability distribution created in the training dataset. This way we can predict which class the text belongs to using the predict()"
   ]
  },
  {
   "cell_type": "code",
   "execution_count": 93,
   "metadata": {
    "id": "A2axT4WrR_Zn"
   },
   "outputs": [],
   "source": [
    "def predict(test,Pxi_c,Vocab,Pc,datatype,id_to_type,word_to_idx,total_cls):\n",
    "    y_test = []\n",
    "    y_predict = []\n",
    "\n",
    "    for index, row in test.iterrows():\n",
    "        raw_text_test = row[datatype]\n",
    "        y_test.append(row['SENTIMENT'])\n",
    "        tokens_test = raw_text_test.split(' ')\n",
    "        Vocab_test = []\n",
    "        for i in range(len(tokens_test)):\n",
    "            word = tokens_test[i]\n",
    "            if word not in Vocab:\n",
    "                Vocab_test.append(-1)\n",
    "            else:\n",
    "                Vocab_test.append(word)\n",
    "\n",
    "        Pc_x = []\n",
    "        for i in range(total_cls):\n",
    "            Pxi_c_test = []\n",
    "            for word in Vocab_test:\n",
    "                idx = word_to_idx[word]\n",
    "                Pxi_c_test.append(Pxi_c[i][idx])\n",
    "            Px_c_test = sum(Pxi_c_test)\n",
    "            prob = np.log(Pc[i]) + Px_c_test\n",
    "            Pc_x.append(prob)\n",
    "        predict = np.argmax(np.array(Pc_x))\n",
    "        y_predict.append(id_to_type[predict])\n",
    "    return y_test, y_predict"
   ]
  },
  {
   "cell_type": "code",
   "execution_count": 100,
   "metadata": {
    "id": "Tki-JiZlX3MG"
   },
   "outputs": [],
   "source": [
    "def accuracy_model(y_true, y_pred):\n",
    "    count = 0\n",
    "    for i in range(len(y_true)):\n",
    "        if y_true[i]==y_pred[i]:\n",
    "            count += 1\n",
    "    return count/len(y_true)"
   ]
  },
  {
   "cell_type": "code",
   "execution_count": null,
   "metadata": {
    "id": "fhqkuHiDD6AJ"
   },
   "outputs": [],
   "source": [
    "df1 = pd.read_csv('train.csv', sep=';')\n",
    "df1['category'] = df1['SENTIMENT'].factorize()[0]"
   ]
  },
  {
   "cell_type": "code",
   "execution_count": null,
   "metadata": {
    "id": "1DELTj83O55U"
   },
   "outputs": [],
   "source": [
    "df2 = pd.read_csv('test.csv', sep=';')\n",
    "df2['category'] = df2['SENTIMENT'].factorize()[0]"
   ]
  },
  {
   "cell_type": "code",
   "execution_count": null,
   "metadata": {
    "colab": {
     "base_uri": "https://localhost:8080/",
     "height": 204
    },
    "id": "iFQB_FMoGwqL",
    "outputId": "0f7ff163-8ae7-45d9-9780-0a68baf3af16"
   },
   "outputs": [
    {
     "data": {
      "text/html": [
       "<div>\n",
       "<style scoped>\n",
       "    .dataframe tbody tr th:only-of-type {\n",
       "        vertical-align: middle;\n",
       "    }\n",
       "\n",
       "    .dataframe tbody tr th {\n",
       "        vertical-align: top;\n",
       "    }\n",
       "\n",
       "    .dataframe thead th {\n",
       "        text-align: right;\n",
       "    }\n",
       "</style>\n",
       "<table border=\"1\" class=\"dataframe\">\n",
       "  <thead>\n",
       "    <tr style=\"text-align: right;\">\n",
       "      <th></th>\n",
       "      <th>SENTIMENT</th>\n",
       "      <th>TEXT</th>\n",
       "      <th>category</th>\n",
       "    </tr>\n",
       "  </thead>\n",
       "  <tbody>\n",
       "    <tr>\n",
       "      <th>613</th>\n",
       "      <td>Positive</td>\n",
       "      <td>What I want, I buy here</td>\n",
       "      <td>0</td>\n",
       "    </tr>\n",
       "    <tr>\n",
       "      <th>3815</th>\n",
       "      <td>Neutral</td>\n",
       "      <td>Range of goods,</td>\n",
       "      <td>2</td>\n",
       "    </tr>\n",
       "    <tr>\n",
       "      <th>8148</th>\n",
       "      <td>Positive</td>\n",
       "      <td>I come here all the time, I like it here, I'm ...</td>\n",
       "      <td>0</td>\n",
       "    </tr>\n",
       "    <tr>\n",
       "      <th>5193</th>\n",
       "      <td>Negative</td>\n",
       "      <td>Heaven is as big a choice as it is down here, ...</td>\n",
       "      <td>1</td>\n",
       "    </tr>\n",
       "    <tr>\n",
       "      <th>9123</th>\n",
       "      <td>Negative</td>\n",
       "      <td>Uncomfortable operation.</td>\n",
       "      <td>1</td>\n",
       "    </tr>\n",
       "  </tbody>\n",
       "</table>\n",
       "</div>"
      ],
      "text/plain": [
       "     SENTIMENT                                               TEXT  category\n",
       "613   Positive                            What I want, I buy here         0\n",
       "3815   Neutral                                    Range of goods,         2\n",
       "8148  Positive  I come here all the time, I like it here, I'm ...         0\n",
       "5193  Negative  Heaven is as big a choice as it is down here, ...         1\n",
       "9123  Negative                           Uncomfortable operation.         1"
      ]
     },
     "execution_count": 56,
     "metadata": {
      "tags": []
     },
     "output_type": "execute_result"
    }
   ],
   "source": [
    "df1.sample(5, random_state=20)"
   ]
  },
  {
   "cell_type": "code",
   "execution_count": null,
   "metadata": {
    "colab": {
     "base_uri": "https://localhost:8080/",
     "height": 331
    },
    "id": "EvVaSbjYG4pl",
    "outputId": "6d870e2d-e4d5-494c-d55b-703b325fca05"
   },
   "outputs": [
    {
     "data": {
      "text/plain": [
       "<matplotlib.axes._subplots.AxesSubplot at 0x7fe1620aafd0>"
      ]
     },
     "execution_count": 57,
     "metadata": {
      "tags": []
     },
     "output_type": "execute_result"
    },
    {
     "data": {
      "image/png": "[encoded data removed]",
      "text/plain": [
       "<Figure size 432x288 with 1 Axes>"
      ]
     },
     "metadata": {
      "needs_background": "light",
      "tags": []
     },
     "output_type": "display_data"
    }
   ],
   "source": [
    "df1.groupby('SENTIMENT')['TEXT'].count().plot.bar(ylim=0) "
   ]
  },
  {
   "cell_type": "code",
   "execution_count": 74,
   "metadata": {
    "id": "Udcf-dOGRyvo"
   },
   "outputs": [],
   "source": [
    "training = [row[\"TEXT\"].lower()\n",
    "          .replace(\",\", \"\").replace(\".\", \"\").replace(\"!\", \"\").replace(\"?\", \"\")\n",
    "          .replace(\";\", \"\").replace(\":\", \"\").replace(\"*\", \"\")\n",
    "          .replace(\"(\", \"\").replace(\")\", \"\")\n",
    "          .replace(\"/\", \"\")\n",
    "          for index, row in df1.iterrows()]\n",
    "\n",
    "testing = [row[\"TEXT\"].lower()\n",
    "          .replace(\",\", \"\").replace(\".\", \"\").replace(\"!\", \"\").replace(\"?\", \"\")\n",
    "          .replace(\";\", \"\").replace(\":\", \"\").replace(\"*\", \"\")\n",
    "          .replace(\"(\", \"\").replace(\")\", \"\")\n",
    "          .replace(\"/\", \"\")\n",
    "          for index, row in df2.iterrows()]"
   ]
  },
  {
   "cell_type": "code",
   "execution_count": 76,
   "metadata": {
    "id": "Z4LpPFBpT6fy"
   },
   "outputs": [],
   "source": [
    "df1['PRE_TEXT'] = training\n",
    "df2['PRE_TEXT'] = testing"
   ]
  },
  {
   "cell_type": "code",
   "execution_count": 92,
   "metadata": {
    "id": "IdUxZ0p1Woov"
   },
   "outputs": [],
   "source": [
    "id_to_type = {0: 'Positive', 1: 'Negative', 2: 'Neutral'}"
   ]
  },
  {
   "cell_type": "code",
   "execution_count": 102,
   "metadata": {
    "id": "drZ98VSYRyfw"
   },
   "outputs": [],
   "source": [
    "Pc, total_cls = class_probability(df1)"
   ]
  },
  {
   "cell_type": "code",
   "execution_count": 128,
   "metadata": {
    "id": "82D5YvstUQYZ"
   },
   "outputs": [],
   "source": [
    "Pxi_c, Vocab, word_to_idx = training(df1, Pc, total_cls, alpha = 1e-8)"
   ]
  },
  {
   "cell_type": "code",
   "execution_count": 129,
   "metadata": {
    "id": "oJCmFsDoVU54"
   },
   "outputs": [],
   "source": [
    "datatype = 'PRE_TEXT'\n",
    "y_test, y_predict = predict(df2,Pxi_c,Vocab,Pc,datatype,id_to_type,word_to_idx,total_cls)"
   ]
  },
  {
   "cell_type": "code",
   "execution_count": 134,
   "metadata": {
    "colab": {
     "base_uri": "https://localhost:8080/"
    },
    "id": "I5hyyLodYNxD",
    "outputId": "2f0b458e-8d36-439c-90f3-1f39b2c15ebe"
   },
   "outputs": [
    {
     "name": "stdout",
     "output_type": "stream",
     "text": [
      "Accuracy (in %): 83.428\n"
     ]
    }
   ],
   "source": [
    "acc = accuracy_model(y_test, y_predict)\n",
    "print('Accuracy (in %):',round(acc*100,3))"
   ]
  }
 ],
 "metadata": {
  "accelerator": "GPU",
  "anaconda-cloud": {},
  "colab": {
   "collapsed_sections": [],
   "name": "NBayes_SENTIMENT.ipynb",
   "provenance": []
  },
  "kernelspec": {
   "display_name": "Python 3",
   "language": "python",
   "name": "python3"
  },
  "language_info": {
   "codemirror_mode": {
    "name": "ipython",
    "version": 3
   },
   "file_extension": ".py",
   "mimetype": "text/x-python",
   "name": "python",
   "nbconvert_exporter": "python",
   "pygments_lexer": "ipython3",
   "version": "3.8.8"
  }
 },
 "nbformat": 4,
 "nbformat_minor": 1
}
